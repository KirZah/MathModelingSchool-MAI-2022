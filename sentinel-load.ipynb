{
 "cells": [
  {
   "cell_type": "markdown",
   "metadata": {},
   "source": [
    "# Загрузка спутниковых снимков Sentinel-2"
   ]
  },
  {
   "cell_type": "markdown",
   "metadata": {},
   "source": [
    "Использовалась библиотека sentinelhub"
   ]
  },
  {
   "cell_type": "code",
   "execution_count": 193,
   "metadata": {},
   "outputs": [],
   "source": [
    "from dotenv import load_dotenv\n",
    "import os\n",
    "\n",
    "load_dotenv()\n",
    "CLIENT_ID = os.getenv('CLIENT_ID')\n",
    "CLIENT_SECRET = os.getenv('CLIENT_SECRET')"
   ]
  },
  {
   "cell_type": "code",
   "execution_count": 194,
   "metadata": {},
   "outputs": [],
   "source": [
    "from sentinelhub import SHConfig\n",
    "\n",
    "config = SHConfig()\n",
    "if CLIENT_ID and CLIENT_SECRET:\n",
    "    config.sh_client_id = CLIENT_ID\n",
    "    config.sh_client_secret = CLIENT_SECRET\n",
    "\n",
    "if config.sh_client_id == '' or config.sh_client_secret == '':\n",
    "    print(\"Warning! To use Sentinel Hub services, please provide the credentials (client ID and client secret).\")\n"
   ]
  },
  {
   "cell_type": "code",
   "execution_count": 195,
   "metadata": {},
   "outputs": [],
   "source": [
    "import numpy as np\n",
    "import matplotlib.pyplot as plt\n",
    "\n",
    "from sentinelhub import (\n",
    "    MimeType,\n",
    "    CRS,\n",
    "    BBox,\n",
    "    SentinelHubRequest,\n",
    "    SentinelHubDownloadClient,\n",
    "    DataCollection,\n",
    "    bbox_to_dimensions,\n",
    "    DownloadRequest,\n",
    "    MosaickingOrder,\n",
    ")"
   ]
  },
  {
   "cell_type": "code",
   "execution_count": 196,
   "metadata": {},
   "outputs": [],
   "source": [
    "%reload_ext autoreload\n",
    "%autoreload 2\n",
    "%matplotlib inline"
   ]
  },
  {
   "cell_type": "code",
   "execution_count": 200,
   "metadata": {},
   "outputs": [],
   "source": [
    "import datetime\n",
    "\n",
    "start = datetime.datetime(2021, 6, 1)\n",
    "end = datetime.datetime(2021, 7, 1)\n",
    "\n",
    "# Благовещенск\n",
    "# coords_wgs84 = [ \n",
    "#     127.55, 50.15,\n",
    "#     127.65, 50.25]\n",
    "\n",
    "# coords_wgs84 = [ \n",
    "#     128.35, 51.95,\n",
    "#     128.45, 52.05]\n",
    "\n",
    "#coords_wgs84 = [ 127.576115, 50.261766, 127.606946, 50.242737]\n",
    "# Ярополец\n",
    "#coords_wgs84 = [35.806246229609144,56.129032544533594,35.84521014799512,56.14813882869631]\n",
    "# Крымский канал\n",
    "#coords_wgs84 = [33.63682276130763,46.01458945842896,33.820110969166464,46.153168963731616]\n",
    "\n",
    "# список координат участков для съемки\n",
    "start = [127.55, 50.15] #Благовещенск\n",
    "finish = [128.45, 52.05] #Свободный\n",
    "current = start\n",
    "coord_list = []\n",
    "\n",
    "deltas = [(finish[0] - start[0]) // 0.1 + 1, (finish[1] - start[1])//0.1 + 1]\n",
    "\n",
    "for y in range(int(deltas[1])):\n",
    "    for x in range(int(deltas[0])):\n",
    "        coord_list.append([\n",
    "            start[0] + 0.1 * x,         start[1] + 0.1 * y, \n",
    "            start[0] + 0.1 * (x + 1),   start[1] + 0.1 * (y + 1)])"
   ]
  },
  {
   "cell_type": "code",
   "execution_count": 198,
   "metadata": {},
   "outputs": [],
   "source": [
    "# RGB бэнды. Реку лучше видно на 8 бэнде инфракрасного но датасет\n",
    "evalscript_true_color = \"\"\"\n",
    "    //VERSION=3\n",
    "\n",
    "    function setup() {\n",
    "        return {\n",
    "            input: [{\n",
    "                bands: [\"B02\", \"B03\", \"B04\"]\n",
    "            }],\n",
    "            output: {\n",
    "                bands: 3\n",
    "            }\n",
    "        };\n",
    "    }\n",
    "\n",
    "    function evaluatePixel(sample) {\n",
    "        return [sample.B04, sample.B03, sample.B02];\n",
    "    }\n",
    "\"\"\"\n",
    "\n",
    "\n",
    "requests = []\n",
    "resolution = 10\n",
    "\n",
    "# адекватные люди бы использовали shapely для задания геометрии реки и загрузки по полученному полигону\n",
    "# но это не про нас\n",
    "\n",
    "for coord in coord_list:    \n",
    "    image_bbox = BBox(bbox= coord, crs=CRS.WGS84)\n",
    "    image_size = bbox_to_dimensions(image_bbox, resolution=resolution)\n",
    "\n",
    "    #print(f\"Image shape at {resolution} m resolution: {image_size} pixels\")\n",
    "\n",
    "    #для незатопленных регионов\n",
    "    request_true_color = SentinelHubRequest(\n",
    "            evalscript=evalscript_true_color,\n",
    "            input_data=[\n",
    "                SentinelHubRequest.input_data(\n",
    "                    data_collection=DataCollection.SENTINEL2_L1C,\n",
    "                    time_interval=(\"2020-05-27\", \"2020-05-28\"),\n",
    "                    #mosaicking_order=MosaickingOrder.LEAST_CC,\n",
    "                )\n",
    "            ],\n",
    "            responses=[SentinelHubRequest.output_response(\"default\", MimeType.PNG)],\n",
    "            bbox=image_bbox,\n",
    "            size=image_size,\n",
    "            config=config,\n",
    "            data_folder = \"unflooded\"\n",
    "        )   \n",
    "    request_true_color.save_data()\n",
    "\n",
    "    #для затопленных\n",
    "    request_true_color = SentinelHubRequest(\n",
    "            evalscript=evalscript_true_color,\n",
    "            input_data=[\n",
    "                SentinelHubRequest.input_data(\n",
    "                    data_collection=DataCollection.SENTINEL2_L1C,\n",
    "                    time_interval=(\"2021-06-27\", \"2021-06-28\"),\n",
    "                    #mosaicking_order=MosaickingOrder.LEAST_CC,\n",
    "                )\n",
    "            ],\n",
    "            responses=[SentinelHubRequest.output_response(\"default\", MimeType.PNG)],\n",
    "            bbox=image_bbox,\n",
    "            size=image_size,\n",
    "            config=config,\n",
    "            data_folder = \"flooded\"\n",
    "        )   \n",
    "    request_true_color.save_data()\n",
    "\n"
   ]
  },
  {
   "cell_type": "code",
   "execution_count": 199,
   "metadata": {},
   "outputs": [],
   "source": [
    "def plot_image(image, factor=1.0, clip_range=None, **kwargs):\n",
    "    \"\"\"\n",
    "    Utility function for plotting RGB images.\n",
    "    \"\"\"\n",
    "    fig, ax = plt.subplots(nrows=1, ncols=1, figsize=(15, 15))\n",
    "    if clip_range is not None:\n",
    "        ax.imshow(np.clip(image * factor, *clip_range), **kwargs)\n",
    "    else:\n",
    "        ax.imshow(image * factor, **kwargs)\n",
    "    ax.set_xticks([])\n",
    "    ax.set_yticks([])\n",
    "\n",
    "    def mini_plot(image, factor=1.0, clip_range=None, **kwargs):\n",
    "        ax.imshow(np.clip(image * factor, *clip_range), **kwargs)"
   ]
  }
 ],
 "metadata": {
  "interpreter": {
   "hash": "916dbcbb3f70747c44a77c7bcd40155683ae19c65e1c03b4aa3499c5328201f1"
  },
  "kernelspec": {
   "display_name": "Python 3.8.10 64-bit",
   "language": "python",
   "name": "python3"
  },
  "language_info": {
   "codemirror_mode": {
    "name": "ipython",
    "version": 3
   },
   "file_extension": ".py",
   "mimetype": "text/x-python",
   "name": "python",
   "nbconvert_exporter": "python",
   "pygments_lexer": "ipython3",
   "version": "3.8.10"
  }
 },
 "nbformat": 4,
 "nbformat_minor": 4
}
